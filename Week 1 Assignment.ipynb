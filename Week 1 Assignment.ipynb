{
 "cells": [
  {
   "cell_type": "code",
   "execution_count": 3,
   "id": "0d88f809-e89a-4ea2-843e-26a2172af1e3",
   "metadata": {},
   "outputs": [],
   "source": [
    "b=[45,63,\"Altaf\",22.66,True]"
   ]
  },
  {
   "cell_type": "code",
   "execution_count": 4,
   "id": "7c0d8e82-6005-45cc-b6d5-e0c89e6c3946",
   "metadata": {},
   "outputs": [
    {
     "data": {
      "text/plain": [
       "list"
      ]
     },
     "execution_count": 4,
     "metadata": {},
     "output_type": "execute_result"
    }
   ],
   "source": [
    "type(b)"
   ]
  },
  {
   "cell_type": "code",
   "execution_count": 5,
   "id": "76dd7ddd-359c-4c1a-8d10-99bb298884c9",
   "metadata": {},
   "outputs": [],
   "source": [
    "c=3.66"
   ]
  },
  {
   "cell_type": "code",
   "execution_count": 6,
   "id": "4b18fa4f-88b0-4922-919f-e92ad242f722",
   "metadata": {},
   "outputs": [
    {
     "data": {
      "text/plain": [
       "float"
      ]
     },
     "execution_count": 6,
     "metadata": {},
     "output_type": "execute_result"
    }
   ],
   "source": [
    "type(c)"
   ]
  },
  {
   "cell_type": "code",
   "execution_count": 7,
   "id": "58a2bd74-bd9a-4191-a706-8e11b40cbd9d",
   "metadata": {},
   "outputs": [],
   "source": [
    "d=(10,\"Dev\",False)"
   ]
  },
  {
   "cell_type": "code",
   "execution_count": 8,
   "id": "3d4aeac3-1dff-4059-9870-5c7d508b668a",
   "metadata": {},
   "outputs": [
    {
     "data": {
      "text/plain": [
       "tuple"
      ]
     },
     "execution_count": 8,
     "metadata": {},
     "output_type": "execute_result"
    }
   ],
   "source": [
    "type(d)"
   ]
  },
  {
   "cell_type": "raw",
   "id": "e058c196-70d3-4cc5-80f5-bff6a395be83",
   "metadata": {},
   "source": [
    "Var1=\"\" String"
   ]
  },
  {
   "cell_type": "raw",
   "id": "48f93f52-34ac-474d-a950-c8a5c903f379",
   "metadata": {},
   "source": [
    "Var2='[DS,MS,PYTHON]' string"
   ]
  },
  {
   "cell_type": "raw",
   "id": "35735114-64d8-44b0-a539-bd29f3469ec1",
   "metadata": {},
   "source": [
    "Var3=['DS,'MS',PYTHON] List"
   ]
  },
  {
   "cell_type": "raw",
   "id": "36539b2a-94ee-4a67-884f-6bd9647c2878",
   "metadata": {},
   "source": [
    "Var4=1 INT"
   ]
  },
  {
   "cell_type": "code",
   "execution_count": 21,
   "id": "c2de8419-7128-4d75-87ec-1e074cf0b78a",
   "metadata": {},
   "outputs": [
    {
     "data": {
      "text/plain": [
       "5.0"
      ]
     },
     "execution_count": 21,
     "metadata": {},
     "output_type": "execute_result"
    }
   ],
   "source": [
    "25/5"
   ]
  },
  {
   "cell_type": "code",
   "execution_count": 16,
   "id": "88d144d7-aa06-4cf6-a43f-48864970ad70",
   "metadata": {},
   "outputs": [
    {
     "data": {
      "text/plain": [
       "2"
      ]
     },
     "execution_count": 16,
     "metadata": {},
     "output_type": "execute_result"
    }
   ],
   "source": [
    "26%4"
   ]
  },
  {
   "cell_type": "code",
   "execution_count": 17,
   "id": "d73fd3d6-a41b-465a-aa61-4de4561901bb",
   "metadata": {},
   "outputs": [
    {
     "data": {
      "text/plain": [
       "6"
      ]
     },
     "execution_count": 17,
     "metadata": {},
     "output_type": "execute_result"
    }
   ],
   "source": [
    "26//4"
   ]
  },
  {
   "cell_type": "code",
   "execution_count": 19,
   "id": "19a9aa97-908e-4a36-aec4-5b74fa6bc147",
   "metadata": {},
   "outputs": [
    {
     "data": {
      "text/plain": [
       "32"
      ]
     },
     "execution_count": 19,
     "metadata": {},
     "output_type": "execute_result"
    }
   ],
   "source": [
    "2**5"
   ]
  },
  {
   "cell_type": "code",
   "execution_count": 22,
   "id": "b67b906c-346a-4e7d-a8ca-25f56f290b12",
   "metadata": {},
   "outputs": [],
   "source": [
    "l=[2,3,4,5,\"TCS\",3.6,45.33,True,False]"
   ]
  },
  {
   "cell_type": "code",
   "execution_count": 23,
   "id": "fe6c60ac-0b89-4425-baa7-aaeafee2e629",
   "metadata": {},
   "outputs": [
    {
     "data": {
      "text/plain": [
       "list"
      ]
     },
     "execution_count": 23,
     "metadata": {},
     "output_type": "execute_result"
    }
   ],
   "source": [
    "type(l)"
   ]
  },
  {
   "cell_type": "code",
   "execution_count": 25,
   "id": "a088af41-be7a-49ec-85bc-f22555053476",
   "metadata": {},
   "outputs": [
    {
     "name": "stdout",
     "output_type": "stream",
     "text": [
      "2\n",
      "3\n",
      "4\n",
      "5\n",
      "TCS\n",
      "3.6\n",
      "45.33\n",
      "True\n",
      "False\n"
     ]
    }
   ],
   "source": [
    "for i in l:\n",
    "    print (i)"
   ]
  },
  {
   "cell_type": "code",
   "execution_count": 7,
   "id": "3e34c05d-5e1f-445f-ae56-d0ad4f1e8a3f",
   "metadata": {},
   "outputs": [
    {
     "name": "stdout",
     "output_type": "stream",
     "text": [
      "<class 'int'>\n",
      "<class 'int'>\n",
      "<class 'int'>\n",
      "<class 'int'>\n",
      "<class 'str'>\n",
      "<class 'float'>\n",
      "<class 'float'>\n",
      "<class 'bool'>\n",
      "<class 'bool'>\n"
     ]
    }
   ],
   "source": [
    "for i in l:\n",
    "    print(type(i))"
   ]
  },
  {
   "cell_type": "code",
   "execution_count": 10,
   "id": "112869a0-bde6-477f-96bd-06200f6195a6",
   "metadata": {},
   "outputs": [
    {
     "name": "stdout",
     "output_type": "stream",
     "text": [
      "2\n",
      "4\n",
      "6\n",
      "8\n"
     ]
    }
   ],
   "source": [
    "A=10\n",
    "B=2\n",
    "while B<A:\n",
    "    print(B)\n",
    "    B=B+2"
   ]
  },
  {
   "cell_type": "code",
   "execution_count": 4,
   "id": "21a111b9-48a6-4c83-a590-b4cfbc99b683",
   "metadata": {},
   "outputs": [],
   "source": [
    "k=[45,63,74,36,12,42,20,21,72,63,108,145,123,30,40,50,15,25,32,33,99,33,60,70,130]"
   ]
  },
  {
   "cell_type": "code",
   "execution_count": 7,
   "id": "6d2fbe43-2190-459e-bca7-324a676f9694",
   "metadata": {},
   "outputs": [
    {
     "name": "stdout",
     "output_type": "stream",
     "text": [
      "45\n",
      "63\n",
      "74\n",
      "36\n",
      "12\n",
      "42\n",
      "20\n",
      "21\n",
      "72\n",
      "63\n",
      "108\n",
      "145\n",
      "123\n",
      "30\n",
      "40\n",
      "50\n",
      "15\n",
      "25\n",
      "32\n",
      "33\n",
      "99\n",
      "33\n",
      "60\n",
      "70\n",
      "130\n",
      "divisible by 3\n"
     ]
    }
   ],
   "source": [
    "for i in k:\n",
    "    print(i)\n",
    "if i/3:\n",
    "    print(\"divisible by 3\")\n",
    "else:\n",
    "    print(\"not divisible by 3\")"
   ]
  },
  {
   "cell_type": "raw",
   "id": "7bda03d2-7b69-4f08-8ce7-2deb3b717f42",
   "metadata": {},
   "source": [
    "when we are able to edit in the index , we call mutable data.\n",
    "when we are not able to edit in the index, it is immutable.\n",
    "Stri"
   ]
  }
 ],
 "metadata": {
  "kernelspec": {
   "display_name": "Python 3 (ipykernel)",
   "language": "python",
   "name": "python3"
  },
  "language_info": {
   "codemirror_mode": {
    "name": "ipython",
    "version": 3
   },
   "file_extension": ".py",
   "mimetype": "text/x-python",
   "name": "python",
   "nbconvert_exporter": "python",
   "pygments_lexer": "ipython3",
   "version": "3.10.8"
  }
 },
 "nbformat": 4,
 "nbformat_minor": 5
}
